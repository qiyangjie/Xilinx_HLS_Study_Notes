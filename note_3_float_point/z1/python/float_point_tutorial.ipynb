{
 "cells": [
  {
   "cell_type": "code",
   "execution_count": 1,
   "metadata": {},
   "outputs": [
    {
     "data": {
      "application/javascript": [
       "\n",
       "require(['notebook/js/codecell'], function(codecell) {\n",
       "  codecell.CodeCell.options_default.highlight_modes[\n",
       "      'magic_text/x-csrc'] = {'reg':[/^%%microblaze/]};\n",
       "  Jupyter.notebook.events.one('kernel_ready.Kernel', function(){\n",
       "      Jupyter.notebook.get_cells().map(function(cell){\n",
       "          if (cell.cell_type == 'code'){ cell.auto_highlight(); } }) ;\n",
       "  });\n",
       "});\n"
      ]
     },
     "metadata": {},
     "output_type": "display_data"
    }
   ],
   "source": [
    "from pynq import Overlay\n",
    "from pynq import allocate\n",
    "import numpy as np"
   ]
  },
  {
   "cell_type": "code",
   "execution_count": 2,
   "metadata": {},
   "outputs": [],
   "source": [
    "DATA_LENGTH = 25"
   ]
  },
  {
   "cell_type": "code",
   "execution_count": 3,
   "metadata": {},
   "outputs": [],
   "source": [
    "overlay = Overlay(\"./overlay/float_point_tutorial.bit\")\n",
    "# overlay?\n",
    "dma = overlay.axi_dma_0"
   ]
  },
  {
   "cell_type": "code",
   "execution_count": 4,
   "metadata": {},
   "outputs": [],
   "source": [
    "input_buffer = allocate(shape=(DATA_LENGTH,), dtype=np.float32)\n",
    "output_buffer = allocate(shape=(DATA_LENGTH,), dtype=np.float32)\n",
    "for i in range(DATA_LENGTH):\n",
    "    input_buffer[i] = 1.1 * i"
   ]
  },
  {
   "cell_type": "code",
   "execution_count": 5,
   "metadata": {},
   "outputs": [
    {
     "name": "stdout",
     "output_type": "stream",
     "text": [
      "[ 696.95996094  640.08996582  585.64001465  533.61004639  484.\n",
      "  436.80999756  392.03997803  349.69003296  309.76000977  272.25\n",
      "  237.1599884   204.49000549  174.23999023  146.41000366  121.\n",
      "   98.00999451   77.44000244   59.2899971    43.55999756   30.25\n",
      "   19.36000061   10.88999939    4.84000015    1.21000004    0.        ]\n"
     ]
    }
   ],
   "source": [
    "dma.sendchannel.transfer(input_buffer)\n",
    "dma.recvchannel.transfer(output_buffer)    \n",
    "dma.sendchannel.wait()\n",
    "dma.recvchannel.wait()\n",
    "print(output_buffer)"
   ]
  },
  {
   "cell_type": "code",
   "execution_count": 6,
   "metadata": {},
   "outputs": [],
   "source": [
    "del input_buffer, output_buffer"
   ]
  },
  {
   "cell_type": "code",
   "execution_count": 7,
   "metadata": {},
   "outputs": [],
   "source": [
    "overlay = Overlay(\"./overlay/float_point_tutorial_wo_converter.bit\")\n",
    "# overlay?\n",
    "dma = overlay.axi_dma_0"
   ]
  },
  {
   "cell_type": "code",
   "execution_count": 8,
   "metadata": {},
   "outputs": [],
   "source": [
    "input_buffer = allocate(shape=(DATA_LENGTH,), dtype=np.float32)\n",
    "output_buffer = allocate(shape=(DATA_LENGTH,), dtype=np.float32)\n",
    "for i in range(DATA_LENGTH):\n",
    "    input_buffer[i] = 1.1 * i"
   ]
  },
  {
   "cell_type": "code",
   "execution_count": 9,
   "metadata": {},
   "outputs": [
    {
     "name": "stdout",
     "output_type": "stream",
     "text": [
      "[  5.69985110e+13  -1.46334565e-30   1.96678611e-13   5.87031949e-17\n",
      "   0.00000000e+00  -2.43358612e-02   3.11648325e+16   1.06933223e+18\n",
      "  -1.39999390e-01   0.00000000e+00   3.56684321e+16  -1.24687195e-01\n",
      "   1.12410272e-17  -4.36716170e-29   0.00000000e+00  -1.40355166e+32\n",
      "  -7.09881241e+29  -1.60637575e+32  -2.56698473e+29   0.00000000e+00\n",
      "   3.10863209e-17  -5.06248474e-02   1.57625300e+14  -6.90250283e-33\n",
      "   0.00000000e+00]\n"
     ]
    }
   ],
   "source": [
    "dma.sendchannel.transfer(input_buffer)\n",
    "dma.recvchannel.transfer(output_buffer)    \n",
    "dma.sendchannel.wait()\n",
    "dma.recvchannel.wait()\n",
    "print(output_buffer)"
   ]
  },
  {
   "cell_type": "code",
   "execution_count": 10,
   "metadata": {},
   "outputs": [],
   "source": [
    "del input_buffer, output_buffer"
   ]
  }
 ],
 "metadata": {
  "kernelspec": {
   "display_name": "Python 3",
   "language": "python",
   "name": "python3"
  },
  "language_info": {
   "codemirror_mode": {
    "name": "ipython",
    "version": 3
   },
   "file_extension": ".py",
   "mimetype": "text/x-python",
   "name": "python",
   "nbconvert_exporter": "python",
   "pygments_lexer": "ipython3",
   "version": "3.6.5"
  }
 },
 "nbformat": 4,
 "nbformat_minor": 2
}
