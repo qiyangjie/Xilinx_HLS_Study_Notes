{
 "cells": [
  {
   "cell_type": "markdown",
   "metadata": {},
   "source": [
    "# Study Note 1: Use ILA to check HLS design\n",
    "This notebook gives a brief idea about how to use the ILA to check the HLS design.\n",
    "\n",
    "## Develop the diagram and add ILA\n",
    "Here we use the multiply constant ip inspired by the [official overlay tutorials](https://pynq.readthedocs.io/en/latest/overlay_design_methodology/overlay_tutorial.html). The IP can be found in the ip folder.\n",
    "\n",
    "The digram is shown below.![](doc/n1_diagram.png)\n",
    "\n",
    "We can select whatever interface we want to monitor to debug.\n",
    "![](doc/n1_debug.png)\n",
    "![](doc/n1_interface.png)\n",
    "\n",
    "The ILA would automatic added on the digram, the auto connection can be used for connect.\n",
    "(Add a screenshot for the ILA)\n",
    "\n",
    "Then generatre the bitstream and load the overlay to PYNQ board as usual.\n",
    "\n",
    "## Run the IP"
   ]
  },
  {
   "cell_type": "code",
   "execution_count": 1,
   "metadata": {},
   "outputs": [
    {
     "data": {
      "application/javascript": [
       "\n",
       "require(['notebook/js/codecell'], function(codecell) {\n",
       "  codecell.CodeCell.options_default.highlight_modes[\n",
       "      'magic_text/x-csrc'] = {'reg':[/^%%microblaze/]};\n",
       "  Jupyter.notebook.events.one('kernel_ready.Kernel', function(){\n",
       "      Jupyter.notebook.get_cells().map(function(cell){\n",
       "          if (cell.cell_type == 'code'){ cell.auto_highlight(); } }) ;\n",
       "  });\n",
       "});\n"
      ]
     },
     "metadata": {},
     "output_type": "display_data"
    }
   ],
   "source": [
    "from pynq import Overlay\n",
    "from pynq import allocate\n",
    "import numpy as np"
   ]
  },
  {
   "cell_type": "code",
   "execution_count": 2,
   "metadata": {},
   "outputs": [],
   "source": [
    "overlay = Overlay('./overlays/mult_constant.bit')\n",
    "# overlay?"
   ]
  },
  {
   "cell_type": "code",
   "execution_count": 3,
   "metadata": {},
   "outputs": [],
   "source": [
    "dma = overlay.axi_dma_0\n",
    "multiply = overlay.mult_constant_0"
   ]
  },
  {
   "cell_type": "code",
   "execution_count": 4,
   "metadata": {},
   "outputs": [
    {
     "data": {
      "text/plain": [
       "RegisterMap {\n",
       "  constant_r = Register(constant_r=0)\n",
       "}"
      ]
     },
     "execution_count": 4,
     "metadata": {},
     "output_type": "execute_result"
    }
   ],
   "source": [
    "multiply.register_map"
   ]
  },
  {
   "cell_type": "code",
   "execution_count": 5,
   "metadata": {},
   "outputs": [
    {
     "name": "stdout",
     "output_type": "stream",
     "text": [
      "[ 0  3  6  9 12]\n"
     ]
    }
   ],
   "source": [
    "in_buffer = allocate(shape=(5,), dtype=np.uint32)\n",
    "out_buffer = allocate(shape=(5,), dtype=np.uint32)\n",
    "\n",
    "for i in range(5):\n",
    "    in_buffer[i] = i\n",
    "\n",
    "multiply.register_map.constant_r = 3\n",
    "dma.sendchannel.transfer(in_buffer)\n",
    "dma.recvchannel.transfer(out_buffer)\n",
    "dma.sendchannel.wait()\n",
    "dma.recvchannel.wait()\n",
    "\n",
    "print(out_buffer)\n",
    "del in_buffer, out_buffer"
   ]
  },
  {
   "cell_type": "markdown",
   "metadata": {},
   "source": [
    "## Using ILA check the results\n",
    "\n",
    "Make sure your USB cable is connected with in the computer you running VIVADO.\n",
    "Open the Hardware Manager.![](doc/n1_hw_manager.png)\n",
    "Select Open target. ![](doc/n1_open_target.png)\n",
    "Click the triangle to run the process. ![](doc/n1_run.png)\n",
    "Then you can see the waveform of the selected interface. ![](doc/n1_waveform_1.png)\n",
    "\n",
    "## Using a single trigger to track the wave\n",
    "\n",
    "You can also select a specific pin as trigger. In this example, we use TLAST in output as trigger. You can drag it from the Name window to the Trigger Setup window. I also change the value to 1, as the TLAST usually 0.\n",
    "\n",
    "![](doc/n1_trigger_setup.png)\n",
    "\n",
    "Click the triangle to run the process and we should fiond wait for trigger message.\n",
    "\n",
    "![](doc/n1_trigger_run.png)\n",
    "\n",
    "Run the code again."
   ]
  },
  {
   "cell_type": "code",
   "execution_count": 6,
   "metadata": {},
   "outputs": [
    {
     "name": "stdout",
     "output_type": "stream",
     "text": [
      "[ 0  3  6  9 12]\n"
     ]
    }
   ],
   "source": [
    "in_buffer = allocate(shape=(5,), dtype=np.uint32)\n",
    "out_buffer = allocate(shape=(5,), dtype=np.uint32)\n",
    "\n",
    "for i in range(5):\n",
    "    in_buffer[i] = i\n",
    "\n",
    "multiply.register_map.constant_r = 3\n",
    "dma.sendchannel.transfer(in_buffer)\n",
    "dma.recvchannel.transfer(out_buffer)\n",
    "dma.sendchannel.wait()\n",
    "dma.recvchannel.wait()\n",
    "\n",
    "print(out_buffer)\n",
    "del in_buffer, out_buffer"
   ]
  },
  {
   "cell_type": "markdown",
   "metadata": {},
   "source": [
    "We can get the waveform before and after the trigger we select.\n",
    "\n",
    "![](doc/n1_waveform_2.png)\n",
    "\n",
    "Done!"
   ]
  }
 ],
 "metadata": {
  "kernelspec": {
   "display_name": "Python 3",
   "language": "python",
   "name": "python3"
  },
  "language_info": {
   "codemirror_mode": {
    "name": "ipython",
    "version": 3
   },
   "file_extension": ".py",
   "mimetype": "text/x-python",
   "name": "python",
   "nbconvert_exporter": "python",
   "pygments_lexer": "ipython3",
   "version": "3.6.5"
  }
 },
 "nbformat": 4,
 "nbformat_minor": 2
}
