{
 "cells": [
  {
   "cell_type": "markdown",
   "metadata": {},
   "source": [
    "# DMA HLS Setup\n",
    "\n",
    "## Methd 1: Fixed inputs and output size"
   ]
  },
  {
   "cell_type": "code",
   "execution_count": 1,
   "metadata": {},
   "outputs": [
    {
     "data": {
      "application/javascript": [
       "\n",
       "require(['notebook/js/codecell'], function(codecell) {\n",
       "  codecell.CodeCell.options_default.highlight_modes[\n",
       "      'magic_text/x-csrc'] = {'reg':[/^%%microblaze/]};\n",
       "  Jupyter.notebook.events.one('kernel_ready.Kernel', function(){\n",
       "      Jupyter.notebook.get_cells().map(function(cell){\n",
       "          if (cell.cell_type == 'code'){ cell.auto_highlight(); } }) ;\n",
       "  });\n",
       "});\n"
      ]
     },
     "metadata": {},
     "output_type": "display_data"
    }
   ],
   "source": [
    "from pynq import Overlay\n",
    "from pynq import allocate\n",
    "import numpy as np"
   ]
  },
  {
   "cell_type": "code",
   "execution_count": 26,
   "metadata": {},
   "outputs": [],
   "source": [
    "DATA_LENGTH = 25"
   ]
  },
  {
   "cell_type": "code",
   "execution_count": 2,
   "metadata": {},
   "outputs": [],
   "source": [
    "overlay = Overlay(\"./overlay/dma_tutorial_1.bit\")\n",
    "dma = overlay.axi_dma_0\n",
    "cmpt = overlay.dma_tutorial_1_0\n",
    "#overlay?\n",
    "input_buffer = allocate(shape=(DATA_LENGTH,), dtype=np.uint32)\n",
    "output_buffer = allocate(shape=(DATA_LENGTH,), dtype=np.uint32)\n",
    "for i in range(DATA_LENGTH):\n",
    "    input_buffer[i] = i"
   ]
  },
  {
   "cell_type": "code",
   "execution_count": 30,
   "metadata": {},
   "outputs": [],
   "source": [
    "cmpt.register_map.strm_len=DATA_LENGTH\n",
    "dma.sendchannel.transfer(input_buffer)\n",
    "dma.recvchannel.transfer(output_buffer)    \n",
    "cmpt.register_map.CTRL.AP_START=1 # start\n",
    "dma.sendchannel.wait()\n",
    "dma.recvchannel.wait()\n",
    "print(output_buffer)"
   ]
  },
  {
   "cell_type": "code",
   "execution_count": 33,
   "metadata": {},
   "outputs": [
    {
     "data": {
      "text/plain": [
       "PynqBuffer([24, 23, 22, 21, 20, 19, 18, 17, 16, 15, 14, 13, 12, 11, 10,  9,\n",
       "             8,  7,  6,  5,  4,  3,  2,  1,  0], dtype=uint32)"
      ]
     },
     "execution_count": 33,
     "metadata": {},
     "output_type": "execute_result"
    }
   ],
   "source": [
    "output_buffer"
   ]
  },
  {
   "cell_type": "code",
   "execution_count": 34,
   "metadata": {},
   "outputs": [],
   "source": [
    "del input_buffer, output_buffer"
   ]
  },
  {
   "cell_type": "markdown",
   "metadata": {},
   "source": [
    "## Method 2_1: Using TLAST to decide whether instream end \n",
    "\n",
    "The TLAST become 1 based on input_buffer shape. For the last data, the TLAST would be setup as 1."
   ]
  },
  {
   "cell_type": "code",
   "execution_count": 37,
   "metadata": {},
   "outputs": [],
   "source": [
    "overlay = Overlay(\"./overlay/dma_tutorial_2_1.bit\")\n",
    "dma = overlay.axi_dma_0\n",
    "cmpt = overlay.dma_tutorial_2_1_0\n",
    "input_buffer = allocate(shape=(DATA_LENGTH,), dtype=np.uint32)\n",
    "output_buffer = allocate(shape=(DATA_LENGTH,), dtype=np.uint32)\n",
    "for i in range(DATA_LENGTH):\n",
    "    input_buffer[i] = i"
   ]
  },
  {
   "cell_type": "code",
   "execution_count": 38,
   "metadata": {},
   "outputs": [],
   "source": [
    "dma.sendchannel.transfer(input_buffer)\n",
    "dma.recvchannel.transfer(output_buffer)    \n",
    "cmpt.register_map.CTRL.AP_START=1 # start\n",
    "dma.sendchannel.wait()\n",
    "dma.recvchannel.wait()"
   ]
  },
  {
   "cell_type": "code",
   "execution_count": 39,
   "metadata": {},
   "outputs": [],
   "source": [
    "del input_buffer, output_buffer"
   ]
  },
  {
   "cell_type": "markdown",
   "metadata": {},
   "source": [
    "## Method 2_2: Remove the control\n",
    "\n",
    "We can either use no control or setup contorl in the axis contorl boundary."
   ]
  },
  {
   "cell_type": "code",
   "execution_count": 40,
   "metadata": {},
   "outputs": [],
   "source": [
    "overlay = Overlay(\"./overlay/dma_tutorial_2_2.bit\")\n",
    "dma = overlay.axi_dma_0\n",
    "# cmpt = overlay.dma_tutorial_2_1_0\n",
    "input_buffer = allocate(shape=(DATA_LENGTH,), dtype=np.uint32)\n",
    "output_buffer = allocate(shape=(DATA_LENGTH,), dtype=np.uint32)\n",
    "for i in range(DATA_LENGTH):\n",
    "    input_buffer[i] = i"
   ]
  },
  {
   "cell_type": "code",
   "execution_count": 41,
   "metadata": {},
   "outputs": [],
   "source": [
    "dma.sendchannel.transfer(input_buffer)\n",
    "dma.recvchannel.transfer(output_buffer)    \n",
    "dma.sendchannel.wait()\n",
    "dma.recvchannel.wait()"
   ]
  },
  {
   "cell_type": "code",
   "execution_count": 31,
   "metadata": {},
   "outputs": [],
   "source": [
    "#dma.register_map"
   ]
  },
  {
   "cell_type": "code",
   "execution_count": 32,
   "metadata": {},
   "outputs": [],
   "source": [
    "# dma.register_map.MM2S_DMACR.Reset = 1"
   ]
  },
  {
   "cell_type": "code",
   "execution_count": null,
   "metadata": {},
   "outputs": [],
   "source": []
  }
 ],
 "metadata": {
  "kernelspec": {
   "display_name": "Python 3",
   "language": "python",
   "name": "python3"
  },
  "language_info": {
   "codemirror_mode": {
    "name": "ipython",
    "version": 3
   },
   "file_extension": ".py",
   "mimetype": "text/x-python",
   "name": "python",
   "nbconvert_exporter": "python",
   "pygments_lexer": "ipython3",
   "version": "3.8.3"
  }
 },
 "nbformat": 4,
 "nbformat_minor": 2
}
